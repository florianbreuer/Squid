{
 "cells": [
  {
   "cell_type": "markdown",
   "metadata": {},
   "source": [
    "<img src=\"squid3.png\" width=\"40%\">\n",
    "\n",
    "<h1><span style=\"color: red\">S</span>age <span style=\"color: red\">Qui</span>z <span style=\"color: red\">D</span>eveloper\n",
    "</h1>\n",
    "\n",
    "Welcome to Squid! A Python-based system for creating variants of quiz questions.\n",
    "\n",
    "Actually, the \"S\" in Squid is a bit of misnomer: you don't need Sage to use Squid, a standard Python (v3.6 or higher) installation will do. But of course running it in Sage has its advantages, as one can use Sage's powerful symbolic expression manipulation and mathematics library.\n",
    "\n",
    "Squid was created by Florian Breuer (florian.breuer@newcastle.edu.au).\n",
    "\n",
    "This code can be found on Github: https://github.com/florianbreuer/Squid\n",
    "\n",
    "<hr>\n",
    "\n",
    "\n",
    "\n",
    "You are looking at a quick and dirty presentation of the main Squid features. The simplest use case is to\n",
    "create question pools containing random variants of prototype questions. Then we upload these\n",
    "pools to Canvas, and create our quizzes in Canvas using these question pools.\n",
    "\n",
    "A more comprehensive tutorial will come later.\n",
    "\n",
    "Let's start with a quick and simple example:"
   ]
  },
  {
   "cell_type": "code",
   "execution_count": 10,
   "metadata": {},
   "outputs": [
    {
     "data": {
      "text/html": [
       "Compute \\(3+2\\).<br><ol><li>\\(5\\)</li>\n",
       "<li>\\(6\\)</li>\n",
       "<li>\\(7\\)</li>\n",
       "<li>\\(4\\)</li>\n",
       "<li>None of these</li></ol>"
      ],
      "text/plain": [
       "Compute \\(3+2\\)."
      ]
     },
     "metadata": {},
     "output_type": "display_data"
    },
    {
     "data": {
      "text/html": [
       "Compute \\(3+3\\).<br><ol><li>\\(6\\)</li>\n",
       "<li>\\(7\\)</li>\n",
       "<li>\\(8\\)</li>\n",
       "<li>\\(5\\)</li>\n",
       "<li>None of these</li></ol>"
      ],
      "text/plain": [
       "Compute \\(3+3\\)."
      ]
     },
     "metadata": {},
     "output_type": "display_data"
    }
   ],
   "source": [
    "# import the basics from the squid library:\n",
    "from squid import Question_MCQ\n",
    "\n",
    "L1 = [] # this list will contain a bunch of variants of our question\n",
    "\n",
    "for a in [1,2,3]:\n",
    "    for b in [1,2,3]:\n",
    "        Q = Question_MCQ()  # each variant is an instance of the class Question_MCQ \n",
    "        Q.question_text = fr'Compute \\({a}+{b}\\).'\n",
    "        Q.answer = fr'\\({a+b}\\)'\n",
    "        Q.wrong_answers = [fr'\\({a+b+1}\\)', fr'\\({a+b+2}\\)', fr'\\({a+b-1}\\)']\n",
    "        L1.append(Q)\n",
    "        \n",
    "for Q in L1[-2:]:  # display the last two questions in pool\n",
    "    display(Q)"
   ]
  },
  {
   "cell_type": "markdown",
   "metadata": {},
   "source": [
    "We have created our first question pool! But the question is a bit too basic, let's do something more interesting.\n",
    "\n",
    "We will create a question that includes a plot. To make the plot, we'll need to import the numpy and matplotlib libaries. Each question gets its own plot, which will be saved to disk (in an 'images' directory, to keep things uncluttered). The question text then include html code to display the image. "
   ]
  },
  {
   "cell_type": "code",
   "execution_count": 11,
   "metadata": {},
   "outputs": [
    {
     "data": {
      "text/html": [
       "<img src=\"images/ContourPlot(-2, 1)_(1, 2).png\" width=\"50%\"><br>\n",
       "            Classify the critical point at \\(P = (1, 2)\\) of the function \\(f(x,y)\\) whose \n",
       "            contour plot is shown above.<br><ol><li>Saddle point</li>\n",
       "<li>Local maximum</li>\n",
       "<li>Local minimum</li>\n",
       "<li>Inflection point</li>\n",
       "<li>None of these</li></ol>"
      ],
      "text/plain": [
       "<img src=\"images/ContourPlot(-2, 1)_(1, 2).png\" width=\"50%\"><br>\n",
       "            Classify the critical point at \\(P = (1, 2)\\) of the function \\(f(x,y)\\) whose \n",
       "            contour plot is shown above."
      ]
     },
     "execution_count": 11,
     "metadata": {},
     "output_type": "execute_result"
    }
   ],
   "source": [
    "# for the next question, we need some more libraries:\n",
    "import matplotlib.pyplot as plt \n",
    "import numpy as np\n",
    "import os\n",
    "\n",
    "# define our image directory, creating it if doesn't already exist:\n",
    "img_dir = 'images'\n",
    "if not os.path.exists(img_dir):\n",
    "    os.mkdir(img_dir)\n",
    "    \n",
    "# Since the code to produce the question is more involved, we'll define a function to contain it:\n",
    "def identify_crit_MCQ(a, b, s1=1, s2=1):\n",
    "    '''Identify the type of critical point (a,b) for f(x,y) = 1 +s1(x-a)^2 + s2(y-b)^2.\n",
    "    The contour plot of f(x,y) is shown.\n",
    "    Returns a Question_MCQ object.'''\n",
    "    def f(x,y):\n",
    "        return 1 + s1*(x-a)**2 + s2*(y-b)**2\n",
    "    # create contour plot of f using matplotlib:\n",
    "    x = np.linspace(-5, 5, 100)\n",
    "    y = np.linspace(-5, 5, 100)\n",
    "    X, Y = np.meshgrid(x, y)\n",
    "    Z = f(X, Y)\n",
    "    fig, ax = plt.subplots(figsize=(5,5))\n",
    "    contours = ax.contour(X, Y, Z, 20, colors='black', linestyles='solid')\n",
    "    ax.clabel(contours, inline=True, fontsize=8)\n",
    "    ax.set_xticks(range(-5,6))\n",
    "    ax.set_yticks(range(-5,6))\n",
    "    ax.text(a+0.2, b+0.2, 'P', fontsize=10, color='red')\n",
    "    ax.add_patch(plt.Circle((a,b), 0.1, color='r'))\n",
    "    # Save this plot to disk:\n",
    "    img_name = 'ContourPlot'+str((s1,s2))+'_'+str((a,b))+'.png'\n",
    "    img_path = os.path.join(img_dir, img_name)\n",
    "    fig.savefig(img_path, transparent=False, dpi=160, bbox_inches=\"tight\")\n",
    "    fig.clf()  # make sure we close the image again, so it doesn't hog memory\n",
    "    # now write question and answers:\n",
    "    Q = Question_MCQ()\n",
    "    Q.marks = 2\n",
    "    # the question text contains some simple html to display the image:\n",
    "    Q.question_text = fr'''<img src=\"{img_path}\" width=\"50%\"><br>\n",
    "            Classify the critical point at \\(P = {(a,b)}\\) of the function \\(f(x,y)\\) whose \n",
    "            contour plot is shown above.'''\n",
    "    # finally, determine the answers\n",
    "    if s1*s2 < 0:\n",
    "        Q.answer = 'Saddle point'\n",
    "    elif s1 < 0:\n",
    "        Q.answer = 'Local maximum'\n",
    "    else: \n",
    "        Q.answer = 'Local minimum'\n",
    "    Q.wrong_answers = ['Saddle point', 'Local maximum', 'Local minimum', 'Inflection point']\n",
    "    Q.wrong_answers.remove(Q.answer)\n",
    "    return Q\n",
    "\n",
    "# Now let's try it out:\n",
    "Q = identify_crit_MCQ(1,2,-2,1)\n",
    "Q"
   ]
  },
  {
   "cell_type": "markdown",
   "metadata": {},
   "source": [
    "Now that we have a more interesting question, let's make a whole list (pool) of variants:"
   ]
  },
  {
   "cell_type": "code",
   "execution_count": 12,
   "metadata": {},
   "outputs": [
    {
     "name": "stdout",
     "output_type": "stream",
     "text": [
      "Created 16 variants.\n"
     ]
    },
    {
     "data": {
      "text/plain": [
       "<Figure size 360x360 with 0 Axes>"
      ]
     },
     "metadata": {},
     "output_type": "display_data"
    },
    {
     "data": {
      "text/plain": [
       "<Figure size 360x360 with 0 Axes>"
      ]
     },
     "metadata": {},
     "output_type": "display_data"
    },
    {
     "data": {
      "text/plain": [
       "<Figure size 360x360 with 0 Axes>"
      ]
     },
     "metadata": {},
     "output_type": "display_data"
    },
    {
     "data": {
      "text/plain": [
       "<Figure size 360x360 with 0 Axes>"
      ]
     },
     "metadata": {},
     "output_type": "display_data"
    },
    {
     "data": {
      "text/plain": [
       "<Figure size 360x360 with 0 Axes>"
      ]
     },
     "metadata": {},
     "output_type": "display_data"
    },
    {
     "data": {
      "text/plain": [
       "<Figure size 360x360 with 0 Axes>"
      ]
     },
     "metadata": {},
     "output_type": "display_data"
    },
    {
     "data": {
      "text/plain": [
       "<Figure size 360x360 with 0 Axes>"
      ]
     },
     "metadata": {},
     "output_type": "display_data"
    },
    {
     "data": {
      "text/plain": [
       "<Figure size 360x360 with 0 Axes>"
      ]
     },
     "metadata": {},
     "output_type": "display_data"
    },
    {
     "data": {
      "text/plain": [
       "<Figure size 360x360 with 0 Axes>"
      ]
     },
     "metadata": {},
     "output_type": "display_data"
    },
    {
     "data": {
      "text/plain": [
       "<Figure size 360x360 with 0 Axes>"
      ]
     },
     "metadata": {},
     "output_type": "display_data"
    },
    {
     "data": {
      "text/plain": [
       "<Figure size 360x360 with 0 Axes>"
      ]
     },
     "metadata": {},
     "output_type": "display_data"
    },
    {
     "data": {
      "text/plain": [
       "<Figure size 360x360 with 0 Axes>"
      ]
     },
     "metadata": {},
     "output_type": "display_data"
    },
    {
     "data": {
      "text/plain": [
       "<Figure size 360x360 with 0 Axes>"
      ]
     },
     "metadata": {},
     "output_type": "display_data"
    },
    {
     "data": {
      "text/plain": [
       "<Figure size 360x360 with 0 Axes>"
      ]
     },
     "metadata": {},
     "output_type": "display_data"
    },
    {
     "data": {
      "text/plain": [
       "<Figure size 360x360 with 0 Axes>"
      ]
     },
     "metadata": {},
     "output_type": "display_data"
    },
    {
     "data": {
      "text/plain": [
       "<Figure size 360x360 with 0 Axes>"
      ]
     },
     "metadata": {},
     "output_type": "display_data"
    }
   ],
   "source": [
    "ablist = [-1,2]\n",
    "slist = [-1,1]\n",
    "\n",
    "L2 = [identify_crit_MCQ(a,b,s1,s2) for a in ablist for b in ablist for s1 in slist for s2 in slist]\n",
    "\n",
    "print(f'Created {len(L2)} variants.')"
   ]
  },
  {
   "cell_type": "markdown",
   "metadata": {},
   "source": [
    "So that's 16 variants of this question. Let's upload them to canvas."
   ]
  },
  {
   "cell_type": "code",
   "execution_count": 13,
   "metadata": {},
   "outputs": [
    {
     "name": "stdout",
     "output_type": "stream",
     "text": [
      "Created upload_me_to_canvas.zip. You can upload it to canvas.\n"
     ]
    }
   ],
   "source": [
    "from squid_qti import SaveToQtiFile\n",
    "\n",
    "SaveToQtiFile(L2, overwrite=True, verbose=True)"
   ]
  },
  {
   "cell_type": "markdown",
   "metadata": {},
   "source": [
    "This result is the file [upload_me_to_canvas.zip](upload_me_to_canvas.zip). This can be uploaded to Canvas using the instructions below."
   ]
  },
  {
   "cell_type": "markdown",
   "metadata": {},
   "source": [
    "## Uploading the .zip file to Canvas ###\n",
    "\n",
    "In your Canvas course, on the bottom left, click \"Settings\", then at the top right, click \n",
    "\"Import Course Content\". \n",
    "<table><tr><td>\n",
    "    <img src=\"Canvas1.png\" alt=\"Settings\" width=\"100%\"></td><td>\n",
    "    <img src=\"Canvas2.png\" alt=\"Import Course Content\" width=\"100%\"></td></tr></table>\n",
    "\n",
    "Next, choose Content type \"QTI .zip file\", choose the .zip file as Source and - **the most important part** - select \"Create new question bank\" under Default question bank. Creating this new question bank is the whole point of this exercise. \n",
    "\n",
    "Finally, leave the two options checkboxes unchecked.\n",
    "<img src=\"Canvas3a.png\" alt=\"import content\" width=\"50%\">\n",
    "\n",
    "After that, Canvas will go to work importing this. After a minute or so, you'll find a new quiz (in this case called \"Squid-made question pool\") amongst the Canvas quizzes. This quiz contains the 16 questions we just made:\n",
    "<img src=\"Canvas4b.png\" alt=\"our new quiz\" width=\"50%\">\n",
    "Delete this quiz, we don't need it. We do need the question bank that came with it.\n",
    "\n",
    "For example, you create a new quiz in Canvas by clicking the \"+ Quiz\" button at the top-right of your quizzes screen.\n",
    "Then select \"Classic Quizzes\" (the \"New Quizzes\" engine doesn't see our question banks) and start creating your quiz. \n",
    "<table><tr><td>\n",
    "    <img src=\"Canvas5.png\" alt=\"Settings\" width=\"80%\"></td><td>\n",
    "    <img src=\"Canvas6.png\" alt=\"Import Course Content\" width=\"100%\"></td>\n",
    "    </tr>\n",
    "</table>\n",
    "To include a randomly-chosen questions from our new question bank, go to the \"Questions\" tab, click on \"+ New question group\"\n",
    "<img src=\"Canvas8.png\" alt=\"New question group\" width=\"50%\">\n",
    "then \"link to question bank\" and select your newly-created question bank. Finally click \"Create group\"\n",
    "<table><tr><td>\n",
    "    <img src=\"Canvas9.png\" alt=\"Link to question bank\" width=\"80%\"></td><td>\n",
    "    <img src=\"Canvas10.png\" alt=\"Choose our new question pool\" width=\"100%\"></td><td>\n",
    "    <img src=\"Canvas11.png\" alt=\"Create group\" width=\"100%\"></td>\n",
    "    </tr>\n",
    "</table>\n",
    "\n",
    "Finally, **Do no forget to save your quiz** before previewing it, or your hard work will be lost! Good luck!\n",
    "<img src=\"Canvas12.png\" alt=\"Remember to save!\" width=\"50%\">\n",
    "\n",
    "\n"
   ]
  },
  {
   "cell_type": "markdown",
   "metadata": {},
   "source": [
    "That was satisfying. Now, let's create a written-answer question (\"file upload question\" in Canvas). That's a bit more effort, because we need to write the model solution, too."
   ]
  },
  {
   "cell_type": "code",
   "execution_count": 14,
   "metadata": {},
   "outputs": [
    {
     "data": {
      "text/html": [
       "\n",
       "Compute the radius of convergence of the following power series. Show all your work.\n",
       "    \\[\n",
       "    f(x) = \\sum_{n=0}^\\infty n\\left(3/2\\right)^n \\big(2x + 1\\big)^n\n",
       "    \\]\n",
       "<br>[For office use only: V42]<br><br><b>Solution.</b><br>\n",
       "    We use the ratio test. Let\n",
       "      \\begin{align*}\n",
       "        L &= \\lim_{n\\to\\infty} \\left| \n",
       "        \\frac{(n+1)\\left(3/2\\right)^{n+1}\\big(2x + 1\\big)^{n+1}}\n",
       "        {n\\left(3/2\\right)^n \\big(2x + 1\\big)^n}\n",
       "        \\right|\\\\\n",
       "        &= \\lim_{n\\to\\infty} \\left| \\frac{n+1}{n}(3/2)(2x+1)\\right| \\\\\n",
       "        &= \\left| (3/2)(2x+1)\\right|.\n",
       "       \\end{align*}\n",
       "       The power series will converge if $L < 1$, i.e.\n",
       "       \\[\n",
       "        \\left| (3/2)(2x+1)\\right| < 1 \\qquad\\Longleftrightarrow \\qquad\n",
       "        \\left|x + 1/2\\right| < 1/3.\n",
       "       \\]\n",
       "       Thus, the radius of convergence is $R = 1/3$."
      ],
      "text/plain": [
       "\n",
       "Compute the radius of convergence of the following power series. Show all your work.\n",
       "    \\[\n",
       "    f(x) = \\sum_{n=0}^\\infty n\\left(3/2\\right)^n \\big(2x + 1\\big)^n\n",
       "    \\]\n",
       "<br>[For office use only: V42]"
      ]
     },
     "execution_count": 14,
     "metadata": {},
     "output_type": "execute_result"
    }
   ],
   "source": [
    "# Next, we compose a written-answer question. To we'll use Python's fractions.Fraction function to typeset fractions.\n",
    "\n",
    "from squid import Question_Written\n",
    "from fractions import Fraction\n",
    "\n",
    "def Radius_of_convergence(a, b, c, d, variant_number=42):\n",
    "    '''Compute the radius of convergence of the power series\n",
    "    $f(x) = \\sum_{n=0}^\\infty n(a/b)^n (cx+d)^n$.\n",
    "    Display will look funny if c=1 or 1, or d<0.\n",
    "    Returns a Question_Written object.'''\n",
    "    Q = Question_Written(marks=3, \n",
    "                         variant_number=variant_number)  # Our question is an instance of the Question_Written class\n",
    "    \n",
    "    Q.question_text = fr'''\n",
    "    Compute the radius of convergence of the following power series. Show all your work.\n",
    "        \\[\n",
    "        f(x) = \\sum_{{n=0}}^\\infty n\\left({str(Fraction(a,b))}\\right)^n \\big({c}x + {d}\\big)^n\n",
    "        \\]\n",
    "        '''\n",
    "    \n",
    "    Q.solution_text = fr'''\n",
    "    We use the ratio test. Let\n",
    "      \\begin{{align*}}\n",
    "        L &= \\lim_{{n\\to\\infty}} \\left| \n",
    "        \\frac{{(n+1)\\left({str(Fraction(a,b))}\\right)^{{n+1}}\\big({c}x + {d}\\big)^{{n+1}}}}\n",
    "        {{n\\left({str(Fraction(a,b))}\\right)^n \\big({c}x + {d}\\big)^n}}\n",
    "        \\right|\\\\\n",
    "        &= \\lim_{{n\\to\\infty}} \\left| \\frac{{n+1}}{{n}}({str(Fraction(a,b))})({c}x+{d})\\right| \\\\\n",
    "        &= \\left| ({str(Fraction(a,b))})({c}x+{d})\\right|.\n",
    "       \\end{{align*}}\n",
    "       The power series will converge if $L < 1$, i.e.\n",
    "       \\[\n",
    "        \\left| ({str(Fraction(a,b))})({c}x+{d})\\right| < 1 \\qquad\\Longleftrightarrow \\qquad\n",
    "        \\left|x + {str(Fraction(d, c))}\\right| < {str(abs(Fraction(b, a*c)))}.\n",
    "       \\]\n",
    "       Thus, the radius of convergence is $R = {str(abs(Fraction(b, a*c)))}$.'''\n",
    "    Q.table_header = ['$n$th term', \n",
    "                      'Radius']\n",
    "    Q.table_row = [fr'$n\\left({str(Fraction(a,b))}\\right)^n \\big({c}x + {d}\\big)^n$',  \n",
    "                  fr'${str(abs(Fraction(b, a*c)))}$']\n",
    "    return Q\n",
    "   \n",
    "Q = Radius_of_convergence(3,2,2,1)\n",
    "Q"
   ]
  },
  {
   "cell_type": "markdown",
   "metadata": {},
   "source": [
    "Each question can be given a variant number (42 in the above case). This matters for written-answer questions, because a human will have to mark them, and will need to know what the variant number is to look up the correct page of the marking scheme.\n",
    "\n",
    "So how do we create a marking scheme? Let's first create a pool of variants of this question, then call up the `selection_wizard`."
   ]
  },
  {
   "cell_type": "code",
   "execution_count": 15,
   "metadata": {},
   "outputs": [],
   "source": [
    "L3 = [Radius_of_convergence(1,b,c,2) for b in [2,3,4,5] for c in [2,3,4,5] if b!=c]"
   ]
  },
  {
   "cell_type": "code",
   "execution_count": 16,
   "metadata": {},
   "outputs": [
    {
     "data": {
      "application/vnd.jupyter.widget-view+json": {
       "model_id": "87a7a7f369c84499a5c71033f81e40b3",
       "version_major": 2,
       "version_minor": 0
      },
      "text/plain": [
       "VBox(children=(HBox(children=(ToggleButton(value=True, description='variant 0'), HTMLMath(value='$n\\\\left(1/2\\…"
      ]
     },
     "metadata": {},
     "output_type": "display_data"
    },
    {
     "data": {
      "application/vnd.jupyter.widget-view+json": {
       "model_id": "0cb7ef1d354b47a98f9fd3ed47d3d7c2",
       "version_major": 2,
       "version_minor": 0
      },
      "text/plain": [
       "HBox(children=(Button(description='Count: 12', style=ButtonStyle()), Button(description='Select All', style=Bu…"
      ]
     },
     "metadata": {},
     "output_type": "display_data"
    },
    {
     "data": {
      "application/vnd.jupyter.widget-view+json": {
       "model_id": "cb905a433f824898b035d537d40b4ec1",
       "version_major": 2,
       "version_minor": 0
      },
      "text/plain": [
       "Tab(children=(VBox(children=(HBox(children=(IntRangeSlider(value=(0, 11), continuous_update=False, description…"
      ]
     },
     "metadata": {},
     "output_type": "display_data"
    },
    {
     "data": {
      "application/vnd.jupyter.widget-view+json": {
       "model_id": "cc488c5e612b4e2ea1b9a6bd3ea26058",
       "version_major": 2,
       "version_minor": 0
      },
      "text/plain": [
       "Output(layout=Layout(border='1px solid black'))"
      ]
     },
     "metadata": {},
     "output_type": "display_data"
    },
    {
     "data": {
      "application/vnd.jupyter.widget-view+json": {
       "model_id": "7bd15240870d4e368388b7ad4b8f1ae2",
       "version_major": 2,
       "version_minor": 0
      },
      "text/plain": [
       "Button(description='Clear Output', style=ButtonStyle())"
      ]
     },
     "metadata": {},
     "output_type": "display_data"
    }
   ],
   "source": [
    "from squid import selection_wizard\n",
    "\n",
    "selection_wizard(L3)"
   ]
  },
  {
   "cell_type": "markdown",
   "metadata": {},
   "source": [
    "The selection wizard lets you select a subset of questions from your pool, save the pool to disk, save it as a qti .zip file for uploading to canvas and save the marking scheme to disk as a .tex file that you can turn into pdf using your favorite latex system.\n",
    "\n",
    "For example, in the above question pool we deselect variant 6 (it might be a bit easier than the others, due to cancellation). The marking scheme, in PDF form, is [SquidMS1.pdf](SquidMS1.pdf)."
   ]
  },
  {
   "cell_type": "markdown",
   "metadata": {},
   "source": [
    "So that wraps up the basic tutorial. If you import squid into Sage, then you can use Sage's powerful symbolic expression system to more easily write up your questions, not to mention create complicated questions (and their solutions!) using Sage's advanced mathematics library. Within Sage you can also import functions from `squid_latex_sage_tools.py`, which includes some useful typesetting functions, but rely on Sage's `latex()` function.\n",
    "\n",
    "**To summarise:** Squid is fundamentally a Python library that defines the classes `Question_MCQ` and `Question_Written`.\n",
    "Instances of these classes are your question variants. The classes have a number of useful methods for manipulating, displaying and exporting these questions. Question pools are simply lists of these question objects, and Squid provides functions for selecting, displaying and exporting these pools.\n",
    "\n",
    "**What's next?** Since we'll hopefully soon return to face-to-face teaching, I'm currently implementing a system for creating whole quizzes, both for Canvas and to print as paper quizzes, as well as a system to aid in marking the resulting papers. I hope to trial this out in the Summer Term of MATH1120 in January 2022."
   ]
  }
 ],
 "metadata": {
  "kernelspec": {
   "display_name": "Python 3",
   "language": "python",
   "name": "python3"
  },
  "language_info": {
   "codemirror_mode": {
    "name": "ipython",
    "version": 3
   },
   "file_extension": ".py",
   "mimetype": "text/x-python",
   "name": "python",
   "nbconvert_exporter": "python",
   "pygments_lexer": "ipython3",
   "version": "3.7.3"
  }
 },
 "nbformat": 4,
 "nbformat_minor": 2
}
